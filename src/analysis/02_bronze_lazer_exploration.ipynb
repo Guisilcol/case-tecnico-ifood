{
 "cells": [
  {
   "cell_type": "markdown",
   "id": "6a9530e6",
   "metadata": {},
   "source": []
  },
  {
   "cell_type": "code",
   "execution_count": 9,
   "id": "8635ce08",
   "metadata": {},
   "outputs": [],
   "source": [
    "from pyspark.sql import SparkSession, functions as F\n",
    "\n",
    "spark = SparkSession.builder.appName(\"Exploração de Dados - Camada Bronze\").getOrCreate()\n"
   ]
  },
  {
   "cell_type": "markdown",
   "id": "84b4b674",
   "metadata": {},
   "source": [
    "# Extração"
   ]
  },
  {
   "cell_type": "code",
   "execution_count": 10,
   "id": "28374dbf",
   "metadata": {},
   "outputs": [
    {
     "name": "stdout",
     "output_type": "stream",
     "text": [
      "+--------+--------------------+---------------------+---------------+-------------+----------+------------------+------------+------------+------------+-----------+-----+-------+----------+------------+---------------------+------------+--------------------+-----------+--------------------+------------------+\n",
      "|vendorid|tpep_pickup_datetime|tpep_dropoff_datetime|passenger_count|trip_distance|ratecodeid|store_and_fwd_flag|pulocationid|dolocationid|payment_type|fare_amount|extra|mta_tax|tip_amount|tolls_amount|improvement_surcharge|total_amount|congestion_surcharge|airport_fee|  data_hora_ingestao|ano_mes_referencia|\n",
      "+--------+--------------------+---------------------+---------------+-------------+----------+------------------+------------+------------+------------+-----------+-----+-------+----------+------------+---------------------+------------+--------------------+-----------+--------------------+------------------+\n",
      "|     1.0| 2023-04-01 00:14:49|  2023-04-01 00:45:01|            2.0|          4.9|       1.0|                 N|        48.0|       223.0|         1.0|       28.9|  3.5|    0.5|       6.0|         0.0|                  1.0|        39.9|                 2.5|        0.0|2025-10-16 21:45:...|           2023-04|\n",
      "|     2.0| 2023-04-01 00:00:24|  2023-04-01 00:56:19|            1.0|        21.89|       2.0|                 N|       132.0|        43.0|         2.0|       70.0|  0.0|    0.5|       0.0|        6.55|                  1.0|        81.8|                 2.5|       1.25|2025-10-16 21:45:...|           2023-04|\n",
      "|     1.0| 2023-04-01 00:03:50|  2023-04-01 00:14:42|            2.0|          1.3|       1.0|                 N|       148.0|       113.0|         1.0|       11.4|  3.5|    0.5|       2.0|         0.0|                  1.0|        18.4|                 2.5|        0.0|2025-10-16 21:45:...|           2023-04|\n",
      "|     1.0| 2023-04-01 00:53:18|  2023-04-01 01:01:28|            1.0|          1.5|       1.0|                 N|       249.0|        79.0|         1.0|       10.0|  3.5|    0.5|       1.0|         0.0|                  1.0|        16.0|                 2.5|        0.0|2025-10-16 21:45:...|           2023-04|\n",
      "|     2.0| 2023-04-01 00:07:00|  2023-04-01 00:17:16|            2.0|         1.49|       1.0|                 N|       158.0|       246.0|         1.0|       11.4|  1.0|    0.5|       1.0|         0.0|                  1.0|        17.4|                 2.5|        0.0|2025-10-16 21:45:...|           2023-04|\n",
      "|     1.0| 2023-04-01 00:08:59|  2023-04-01 00:15:39|            6.0|          1.2|       1.0|                 N|       163.0|       141.0|         1.0|        9.3|  3.5|    0.5|      3.55|         0.0|                  1.0|       17.85|                 2.5|        0.0|2025-10-16 21:45:...|           2023-04|\n",
      "|     2.0| 2023-04-01 00:27:52|  2023-04-01 00:43:07|            1.0|         8.61|       1.0|                 N|       138.0|       170.0|         1.0|       33.8|  6.0|    0.5|     10.32|        6.55|                  1.0|       61.92|                 2.5|       1.25|2025-10-16 21:45:...|           2023-04|\n",
      "|     2.0| 2023-04-01 00:48:38|  2023-04-01 01:08:37|            1.0|         3.88|       1.0|                 N|       170.0|       145.0|         1.0|       21.9|  1.0|    0.5|      6.72|         0.0|                  1.0|       33.62|                 2.5|        0.0|2025-10-16 21:45:...|           2023-04|\n",
      "|     1.0| 2023-04-01 00:22:28|  2023-04-01 00:34:29|            0.0|          8.0|       1.0|                 N|       138.0|       233.0|         3.0|       31.0| 9.75|    0.5|       0.0|        6.55|                  1.0|        48.8|                 2.5|       1.25|2025-10-16 21:45:...|           2023-04|\n",
      "|     2.0| 2023-04-01 00:27:06|  2023-04-01 00:34:06|            1.0|         1.48|       1.0|                 N|       230.0|       164.0|         1.0|        9.3|  1.0|    0.5|      2.86|         0.0|                  1.0|       17.16|                 2.5|        0.0|2025-10-16 21:45:...|           2023-04|\n",
      "|     2.0| 2023-04-01 00:34:42|  2023-04-01 00:41:30|            1.0|         0.99|       1.0|                 N|       164.0|       246.0|         1.0|        7.9|  1.0|    0.5|       1.0|         0.0|                  1.0|        13.9|                 2.5|        0.0|2025-10-16 21:45:...|           2023-04|\n",
      "|     2.0| 2023-04-01 00:47:38|  2023-04-01 00:53:55|            1.0|          1.3|       1.0|                 N|        90.0|       246.0|         1.0|        8.6|  1.0|    0.5|       1.0|         0.0|                  1.0|        14.6|                 2.5|        0.0|2025-10-16 21:45:...|           2023-04|\n",
      "|     2.0| 2023-04-01 00:59:10|  2023-04-01 01:08:55|            1.0|         1.69|       1.0|                 N|        68.0|       142.0|         1.0|       11.4|  1.0|    0.5|      2.46|         0.0|                  1.0|       18.86|                 2.5|        0.0|2025-10-16 21:45:...|           2023-04|\n",
      "|     2.0| 2023-04-01 00:19:36|  2023-04-01 00:49:31|            2.0|          6.2|       1.0|                 N|       230.0|        33.0|         1.0|       31.7|  1.0|    0.5|      7.34|         0.0|                  1.0|       44.04|                 2.5|        0.0|2025-10-16 21:45:...|           2023-04|\n",
      "|     1.0| 2023-04-01 00:04:59|  2023-04-01 00:30:10|            2.0|          4.4|       1.0|                 N|       148.0|       236.0|         1.0|       26.1|  3.5|    0.5|       5.0|         0.0|                  1.0|        36.1|                 2.5|        0.0|2025-10-16 21:45:...|           2023-04|\n",
      "|     2.0| 2023-04-01 00:16:49|  2023-04-01 00:33:01|            1.0|         3.01|       1.0|                 N|        79.0|        66.0|         1.0|       17.7|  1.0|    0.5|      4.54|         0.0|                  1.0|       27.24|                 2.5|        0.0|2025-10-16 21:45:...|           2023-04|\n",
      "|     2.0| 2023-04-01 00:11:21|  2023-04-01 00:24:43|            1.0|         3.03|       1.0|                 N|       107.0|        65.0|         1.0|       17.0|  1.0|    0.5|       4.0|         0.0|                  1.0|        26.0|                 2.5|        0.0|2025-10-16 21:45:...|           2023-04|\n",
      "|     2.0| 2023-04-01 00:38:58|  2023-04-01 00:52:20|            1.0|         2.58|       1.0|                 N|       211.0|       230.0|         1.0|       15.6|  1.0|    0.5|      4.12|         0.0|                  1.0|       24.72|                 2.5|        0.0|2025-10-16 21:45:...|           2023-04|\n",
      "|     1.0| 2023-04-01 00:03:43|  2023-04-01 00:09:16|            2.0|          0.6|       1.0|                 N|       237.0|        43.0|         2.0|        7.2|  3.5|    0.5|       0.0|         0.0|                  1.0|        12.2|                 2.5|        0.0|2025-10-16 21:45:...|           2023-04|\n",
      "|     1.0| 2023-04-01 00:12:17|  2023-04-01 00:20:34|            1.0|          1.9|       1.0|                 N|       163.0|       186.0|         1.0|       11.4|  3.5|    0.5|       1.0|         0.0|                  1.0|        17.4|                 2.5|        0.0|2025-10-16 21:45:...|           2023-04|\n",
      "+--------+--------------------+---------------------+---------------+-------------+----------+------------------+------------+------------+------------+-----------+-----+-------+----------+------------+---------------------+------------+--------------------+-----------+--------------------+------------------+\n",
      "only showing top 20 rows\n"
     ]
    }
   ],
   "source": [
    "df_yellow = spark.read.table(\"bronze_db.nyc_taxi_data_yellow\")\n",
    "df_yellow.show()"
   ]
  },
  {
   "cell_type": "code",
   "execution_count": 11,
   "id": "a4b54259",
   "metadata": {},
   "outputs": [
    {
     "name": "stdout",
     "output_type": "stream",
     "text": [
      "+--------+--------------------+---------------------+------------------+----------+------------+------------+---------------+-------------+-----------+-----+-------+----------+------------+---------+---------------------+------------+------------+---------+--------------------+--------------------+------------------+\n",
      "|vendorid|lpep_pickup_datetime|lpep_dropoff_datetime|store_and_fwd_flag|ratecodeid|pulocationid|dolocationid|passenger_count|trip_distance|fare_amount|extra|mta_tax|tip_amount|tolls_amount|ehail_fee|improvement_surcharge|total_amount|payment_type|trip_type|congestion_surcharge|  data_hora_ingestao|ano_mes_referencia|\n",
      "+--------+--------------------+---------------------+------------------+----------+------------+------------+---------------+-------------+-----------+-----+-------+----------+------------+---------+---------------------+------------+------------+---------+--------------------+--------------------+------------------+\n",
      "|     2.0| 2023-05-01 00:52:10|  2023-05-01 01:05:26|                 N|       1.0|       244.0|       213.0|            1.0|         6.99|       28.9|  1.0|    0.5|       0.0|         0.0|     NULL|                  1.0|        31.4|         1.0|      1.0|                 0.0|2025-10-16 21:45:...|           2023-05|\n",
      "|     2.0| 2023-05-01 00:29:49|  2023-05-01 00:50:11|                 N|       1.0|        33.0|       100.0|            1.0|          6.6|       30.3|  1.0|    0.5|       5.0|         0.0|     NULL|                  1.0|       40.55|         1.0|      1.0|                2.75|2025-10-16 21:45:...|           2023-05|\n",
      "|     2.0| 2023-05-01 00:25:19|  2023-05-01 00:32:12|                 N|       1.0|       244.0|       244.0|            1.0|         1.34|        9.3|  1.0|    0.5|      2.36|         0.0|     NULL|                  1.0|       14.16|         1.0|      1.0|                 0.0|2025-10-16 21:45:...|           2023-05|\n",
      "|     2.0| 2023-05-01 00:07:06|  2023-05-01 00:27:33|                 N|       5.0|        82.0|        75.0|            1.0|         7.79|      22.73|  0.0|    0.0|      2.29|        6.55|     NULL|                  1.0|       32.57|         1.0|      1.0|                 0.0|2025-10-16 21:45:...|           2023-05|\n",
      "|     2.0| 2023-05-01 00:43:31|  2023-05-01 00:46:59|                 N|       1.0|        69.0|       169.0|            1.0|          0.7|        6.5|  1.0|    0.5|       0.0|         0.0|     NULL|                  1.0|         9.0|         2.0|      1.0|                 0.0|2025-10-16 21:45:...|           2023-05|\n",
      "|     2.0| 2023-05-01 00:51:54|  2023-05-01 01:00:24|                 N|       1.0|       169.0|        69.0|            1.0|         1.54|       10.0|  1.0|    0.5|       0.0|         0.0|     NULL|                  1.0|        12.5|         1.0|      1.0|                 0.0|2025-10-16 21:45:...|           2023-05|\n",
      "|     2.0| 2023-05-01 00:27:46|  2023-05-01 00:49:17|                 N|       1.0|        75.0|        80.0|            1.0|        10.75|       42.2|  1.0|    0.5|       0.0|        6.55|     NULL|                  1.0|       51.25|         1.0|      1.0|                 0.0|2025-10-16 21:45:...|           2023-05|\n",
      "|     1.0| 2023-05-01 00:27:14|  2023-05-01 00:41:23|                 N|       1.0|        41.0|       244.0|            1.0|          4.4|       15.0|  0.5|    1.5|       3.4|         0.0|     NULL|                  1.0|        20.4|         1.0|      1.0|                 0.0|2025-10-16 21:45:...|           2023-05|\n",
      "|     2.0| 2023-05-01 00:24:14|  2023-05-01 00:35:16|                 N|       1.0|        74.0|       151.0|            1.0|          2.6|       14.2|  1.0|    0.5|      4.18|         0.0|     NULL|                  1.0|       20.88|         1.0|      1.0|                 0.0|2025-10-16 21:45:...|           2023-05|\n",
      "|     2.0| 2023-05-01 00:46:55|  2023-05-01 00:59:19|                 N|       1.0|       166.0|       244.0|            1.0|         2.72|       15.6|  1.0|    0.5|      3.62|         0.0|     NULL|                  1.0|       21.72|         1.0|      1.0|                 0.0|2025-10-16 21:45:...|           2023-05|\n",
      "|     2.0| 2023-05-01 00:47:56|  2023-05-01 01:03:36|                 N|       1.0|        95.0|        82.0|            1.0|         2.95|       18.4|  1.0|    0.5|       2.0|         0.0|     NULL|                  1.0|        22.9|         1.0|      1.0|                 0.0|2025-10-16 21:45:...|           2023-05|\n",
      "|     2.0| 2023-05-01 00:01:24|  2023-05-01 00:09:45|                 N|       1.0|        95.0|        95.0|            2.0|         1.69|       10.0|  1.0|    0.5|       0.0|         0.0|     NULL|                  1.0|        12.5|         2.0|      1.0|                 0.0|2025-10-16 21:45:...|           2023-05|\n",
      "|     2.0| 2023-05-01 00:11:52|  2023-05-01 01:06:57|                 N|       1.0|       129.0|        82.0|            2.0|         2.47|       42.2|  1.0|    0.5|       0.0|         0.0|     NULL|                  1.0|        44.7|         2.0|      1.0|                 0.0|2025-10-16 21:45:...|           2023-05|\n",
      "|     2.0| 2023-05-01 00:43:51|  2023-05-01 01:10:50|                 N|       1.0|       173.0|       129.0|            2.0|          3.6|       25.4|  1.0|    0.5|       0.0|         0.0|     NULL|                  1.0|        27.9|         2.0|      1.0|                 0.0|2025-10-16 21:45:...|           2023-05|\n",
      "|     2.0| 2023-05-01 00:55:01|  2023-05-01 01:02:57|                 N|       1.0|        82.0|       129.0|            1.0|         1.13|        8.6|  1.0|    0.5|      2.22|         0.0|     NULL|                  1.0|       13.32|         1.0|      1.0|                 0.0|2025-10-16 21:45:...|           2023-05|\n",
      "|     2.0| 2023-05-01 00:55:36|  2023-05-01 01:08:30|                 N|       1.0|        42.0|        41.0|            1.0|         1.78|       13.5|  1.0|    0.5|       3.2|         0.0|     NULL|                  1.0|        19.2|         1.0|      1.0|                 0.0|2025-10-16 21:45:...|           2023-05|\n",
      "|     2.0| 2023-05-01 00:22:54|  2023-05-01 00:32:09|                 N|       1.0|        92.0|        53.0|            1.0|          2.2|       12.8|  1.0|    0.5|       0.0|         0.0|     NULL|                  1.0|        15.3|         2.0|      1.0|                 0.0|2025-10-16 21:45:...|           2023-05|\n",
      "|     2.0| 2023-05-01 00:22:55|  2023-05-01 00:22:59|                 N|       5.0|       182.0|       182.0|            1.0|          0.0|       25.0|  0.0|    0.0|       5.2|         0.0|     NULL|                  1.0|        31.2|         1.0|      2.0|                 0.0|2025-10-16 21:45:...|           2023-05|\n",
      "|     2.0| 2023-05-01 00:22:40|  2023-05-01 00:30:56|                 N|       1.0|        95.0|       135.0|            1.0|         2.29|       12.1|  1.0|    0.5|       0.0|         0.0|     NULL|                  1.0|        14.6|         2.0|      1.0|                 0.0|2025-10-16 21:45:...|           2023-05|\n",
      "|     2.0| 2023-05-01 00:53:11|  2023-05-01 01:11:20|                 N|       1.0|       127.0|       235.0|            1.0|         6.23|       27.5|  1.0|    0.5|       0.0|         0.0|     NULL|                  1.0|        30.0|         2.0|      1.0|                 0.0|2025-10-16 21:45:...|           2023-05|\n",
      "+--------+--------------------+---------------------+------------------+----------+------------+------------+---------------+-------------+-----------+-----+-------+----------+------------+---------+---------------------+------------+------------+---------+--------------------+--------------------+------------------+\n",
      "only showing top 20 rows\n"
     ]
    }
   ],
   "source": [
    "df_green = spark.read.table(\"bronze_db.nyc_taxi_data_green\")\n",
    "df_green.show()"
   ]
  },
  {
   "cell_type": "code",
   "execution_count": 17,
   "id": "2133168b",
   "metadata": {},
   "outputs": [
    {
     "name": "stdout",
     "output_type": "stream",
     "text": [
      "+--------------------+-------------+--------------------+----------------------+-------------+-------------------+---------------------+----------------------+-----------------------------+-----------------+------------------------+------------+------------------+\n",
      "|                  id|id_fornecedor|     nome_fornecedor|quantidade_passageiros|valor_corrida| data_hora_embarque|data_hora_desembarque|indicador_cancelamento|indicador_viagem_sem_cobranca|id_tipo_pagamento|descricao_tipo_pagamento|tipo_servico|ano_mes_referencia|\n",
      "+--------------------+-------------+--------------------+----------------------+-------------+-------------------+---------------------+----------------------+-----------------------------+-----------------+------------------------+------------+------------------+\n",
      "|7ecf77e9-9571-48c...|          1.0|Creative Mobile T...|                   0.0|        51.65|2023-05-01 00:33:13|  2023-05-01 00:53:01|                     N|                            N|              1.0|       Cartão de crédito|      YELLOW|           2023-05|\n",
      "|480b89af-5d97-47a...|          1.0|Creative Mobile T...|                   2.0|        57.15|2023-05-01 00:42:49|  2023-05-01 01:11:18|                     N|                            N|              1.0|       Cartão de crédito|      YELLOW|           2023-05|\n",
      "|4d2ba273-393f-421...|          1.0|Creative Mobile T...|                   2.0|         64.2|2023-05-01 00:56:34|  2023-05-01 01:13:39|                     N|                            N|              1.0|       Cartão de crédito|      YELLOW|           2023-05|\n",
      "|83095803-6c00-43f...|          2.0|  Curb Mobility, LLC|                   1.0|        47.09|2023-05-01 00:00:52|  2023-05-01 00:20:12|                     N|                            N|              1.0|       Cartão de crédito|      YELLOW|           2023-05|\n",
      "|5009f89e-20f9-4ec...|          1.0|Creative Mobile T...|                   0.0|        59.15|2023-05-01 00:05:50|  2023-05-01 00:19:41|                     N|                            N|              1.0|       Cartão de crédito|      YELLOW|           2023-05|\n",
      "|51c0d87c-76d1-4e4...|          1.0|Creative Mobile T...|                   0.0|         69.0|2023-05-01 00:42:54|  2023-05-01 01:04:49|                     N|                            N|              1.0|       Cartão de crédito|      YELLOW|           2023-05|\n",
      "|b5463ec3-d4ad-45e...|          2.0|  Curb Mobility, LLC|                   1.0|        64.56|2023-05-01 00:50:34|  2023-05-01 01:12:09|                     N|                            N|              1.0|       Cartão de crédito|      YELLOW|           2023-05|\n",
      "|41552dd4-eaa9-4e6...|          1.0|Creative Mobile T...|                   1.0|        14.35|2023-05-01 00:13:58|  2023-05-01 00:18:10|                     N|                            N|              1.0|       Cartão de crédito|      YELLOW|           2023-05|\n",
      "|7455a666-9499-46b...|          2.0|  Curb Mobility, LLC|                   1.0|         17.1|2023-04-30 23:48:31|  2023-04-30 23:57:35|                     N|                            N|              2.0|                Dinheiro|      YELLOW|           2023-05|\n",
      "|e44af52a-afef-428...|          2.0|  Curb Mobility, LLC|                   1.0|         19.9|2023-05-01 00:28:47|  2023-05-01 00:39:33|                     N|                            N|              2.0|                Dinheiro|      YELLOW|           2023-05|\n",
      "|3da654be-60f2-466...|          2.0|  Curb Mobility, LLC|                   1.0|        78.67|2023-05-01 00:18:49|  2023-05-01 00:43:41|                     N|                            N|              1.0|       Cartão de crédito|      YELLOW|           2023-05|\n",
      "|74f87c46-23f1-420...|          1.0|Creative Mobile T...|                   1.0|         53.5|2023-05-01 00:52:48|  2023-05-01 01:17:35|                     N|                            N|              1.0|       Cartão de crédito|      YELLOW|           2023-05|\n",
      "|412166d7-3671-4c8...|          2.0|  Curb Mobility, LLC|                   1.0|        14.64|2023-05-01 00:55:22|  2023-05-01 00:58:20|                     N|                            N|              1.0|       Cartão de crédito|      YELLOW|           2023-05|\n",
      "|adb5a300-d8dd-4ec...|          2.0|  Curb Mobility, LLC|                   1.0|         19.1|2023-05-01 00:28:12|  2023-05-01 00:36:09|                     N|                            N|              1.0|       Cartão de crédito|      YELLOW|           2023-05|\n",
      "|6cd69bb1-0d9b-473...|          2.0|  Curb Mobility, LLC|                   2.0|        76.89|2023-05-01 00:04:27|  2023-05-01 00:26:38|                     N|                            N|              1.0|       Cartão de crédito|      YELLOW|           2023-05|\n",
      "|b43ff825-103e-419...|          1.0|Creative Mobile T...|                   1.0|          9.4|2023-05-01 00:07:05|  2023-05-01 00:08:45|                     N|                            S|              3.0|            Sem cobrança|      YELLOW|           2023-05|\n",
      "|2795e020-0fed-4f9...|          1.0|Creative Mobile T...|                   1.0|        17.25|2023-05-01 00:30:56|  2023-05-01 00:36:33|                     N|                            N|              1.0|       Cartão de crédito|      YELLOW|           2023-05|\n",
      "|9d6430a8-5824-415...|          2.0|  Curb Mobility, LLC|                   1.0|        83.88|2023-05-01 00:47:34|  2023-05-01 01:17:55|                     N|                            N|              1.0|       Cartão de crédito|      YELLOW|           2023-05|\n",
      "|3932ced5-9657-461...|          2.0|  Curb Mobility, LLC|                   1.0|         10.8|2023-05-01 00:53:26|  2023-05-01 00:57:47|                     N|                            N|              2.0|                Dinheiro|      YELLOW|           2023-05|\n",
      "|30b1a6e8-ad04-4bd...|          2.0|  Curb Mobility, LLC|                   1.0|        69.55|2023-05-01 00:34:15|  2023-05-01 00:51:43|                     N|                            N|              1.0|       Cartão de crédito|      YELLOW|           2023-05|\n",
      "+--------------------+-------------+--------------------+----------------------+-------------+-------------------+---------------------+----------------------+-----------------------------+-----------------+------------------------+------------+------------------+\n",
      "only showing top 20 rows\n"
     ]
    }
   ],
   "source": [
    "df_yellow_tranformed = df_yellow.selectExpr(\n",
    "    \"vendorid as id_fornecedor\",\n",
    "    \"passenger_count as quantidade_passageiros\",\n",
    "    \"total_amount as valor_corrida\",\n",
    "    \"tpep_pickup_datetime as data_hora_embarque\",\n",
    "    \"tpep_dropoff_datetime as data_hora_desembarque\",\n",
    "    \"payment_type as id_tipo_pagamento\", \n",
    "    \"ano_mes_referencia\",\n",
    "    '\"YELLOW\" as tipo_servico',\n",
    ")\n",
    "\n",
    "df_green_tranformed = df_green.selectExpr(\n",
    "    \"vendorid as id_fornecedor\",\n",
    "    \"passenger_count as quantidade_passageiros\",\n",
    "    \"total_amount as valor_corrida\",\n",
    "    \"lpep_pickup_datetime as data_hora_embarque\",\n",
    "    \"lpep_dropoff_datetime as data_hora_desembarque\",\n",
    "    \"payment_type as id_tipo_pagamento\", \n",
    "    \"ano_mes_referencia\",\n",
    "    '\"GREEN\" as tipo_servico',\n",
    ")\n",
    "\n",
    "df = df_yellow_tranformed.union(df_green_tranformed)\n",
    "\n",
    "df = (\n",
    "    df.withColumn(\n",
    "        \"nome_fornecedor\", \n",
    "        F.when(F.col(\"id_fornecedor\") == 1, \"Creative Mobile Technologies, LLC\")\n",
    "        .when(F.col(\"id_fornecedor\") == 2, \"Curb Mobility, LLC\")\n",
    "        .when(F.col(\"id_fornecedor\") == 6, \"Myle Technologies Inc\")\n",
    "        .when(F.col(\"id_fornecedor\") == 7, \"Helix\")\n",
    "        .otherwise(\"FORNECEDOR NÃO IDENTIFICADO\")\n",
    "    )\n",
    ")\n",
    "\n",
    "df = (\n",
    "    df.withColumn(\n",
    "        \"descricao_tipo_pagamento\", \n",
    "        F.when(F.col(\"id_tipo_pagamento\") == 0, \"Viagem com tarifa flexível\")\n",
    "        .when(F.col(\"id_tipo_pagamento\") == 1, \"Cartão de crédito\")\n",
    "        .when(F.col(\"id_tipo_pagamento\") == 2, \"Dinheiro\")\n",
    "        .when(F.col(\"id_tipo_pagamento\") == 3, \"Sem cobrança\")\n",
    "        .when(F.col(\"id_tipo_pagamento\") == 4, \"Contestação\")\n",
    "        .when(F.col(\"id_tipo_pagamento\") == 5, \"Desconhecido\")\n",
    "        .when(F.col(\"id_tipo_pagamento\") == 6, \"Viagem cancelada\")\n",
    "        .otherwise(\"TIPO DE PAGAMENTO NÃO IDENTIFICADO\")\n",
    "    )\n",
    ")\n",
    "\n",
    "df = df.withColumn(\"indicador_cancelamento\", F.when(F.col(\"id_tipo_pagamento\") == 6, 'S').otherwise('N'))\n",
    "df = df.withColumn(\"indicador_viagem_sem_cobranca\", F.when(F.col(\"id_tipo_pagamento\") == 3, 'S').otherwise('N'))\n",
    "df = df.withColumn(\"id\", F.expr(\"uuid()\"))\n",
    "\n",
    "df_viagem_taxi_ny = df.select(\n",
    "    \"id\",\n",
    "    \"id_fornecedor\",\n",
    "    \"nome_fornecedor\",\n",
    "    \"quantidade_passageiros\",\n",
    "    \"valor_corrida\",\n",
    "    \"data_hora_embarque\",\n",
    "    \"data_hora_desembarque\",\n",
    "    \"indicador_cancelamento\",\n",
    "    \"indicador_viagem_sem_cobranca\",\n",
    "    \"id_tipo_pagamento\",\n",
    "    \"descricao_tipo_pagamento\",\n",
    "    \"tipo_servico\",\n",
    "    \"ano_mes_referencia\",\n",
    ")\n",
    "\n",
    "df_viagem_taxi_ny.show()\n",
    "\n",
    "\n"
   ]
  },
  {
   "cell_type": "code",
   "execution_count": 25,
   "id": "9e3b4796",
   "metadata": {},
   "outputs": [
    {
     "name": "stdout",
     "output_type": "stream",
     "text": [
      "root\n",
      " |-- id: string (nullable = false)\n",
      " |-- id_fornecedor: double (nullable = true)\n",
      " |-- nome_fornecedor: string (nullable = false)\n",
      " |-- quantidade_passageiros: double (nullable = true)\n",
      " |-- valor_corrida: double (nullable = true)\n",
      " |-- data_hora_embarque: timestamp (nullable = true)\n",
      " |-- data_hora_desembarque: timestamp (nullable = true)\n",
      " |-- indicador_cancelamento: string (nullable = false)\n",
      " |-- indicador_viagem_sem_cobranca: string (nullable = false)\n",
      " |-- id_tipo_pagamento: double (nullable = true)\n",
      " |-- descricao_tipo_pagamento: string (nullable = false)\n",
      " |-- tipo_servico: string (nullable = false)\n",
      " |-- ano_mes_referencia: string (nullable = true)\n",
      "\n"
     ]
    }
   ],
   "source": [
    "df_viagem_taxi_ny.printSchema()"
   ]
  },
  {
   "cell_type": "code",
   "execution_count": 18,
   "id": "00b86edd",
   "metadata": {},
   "outputs": [
    {
     "name": "stdout",
     "output_type": "stream",
     "text": [
      "+------------------+-------------------+\n",
      "|ano_mes_referencia|media_valor_corrida|\n",
      "+------------------+-------------------+\n",
      "|           2023-01|              27.12|\n",
      "|           2023-02|               27.0|\n",
      "|           2023-03|              27.91|\n",
      "|           2023-04|              28.38|\n",
      "|           2023-05|              29.07|\n",
      "+------------------+-------------------+\n",
      "\n"
     ]
    }
   ],
   "source": [
    "\"\"\"\n",
    "    Qual a média de valor total (total_amount) recebido em um mês\n",
    "    considerando todos os yellow táxis da frota?\n",
    "\"\"\"\n",
    "\n",
    "\n",
    "_ = (\n",
    "    df_viagem_taxi_ny\n",
    "    .filter(\"tipo_servico = 'YELLOW'\") # Somente yellow táxis\n",
    "    .filter(\"indicador_cancelamento = 'N'\") # Somente corridas não canceladas\n",
    "    .filter(\"indicador_viagem_sem_cobranca = 'N'\") # Somente corridas com cobrança\n",
    "    .groupBy(\"ano_mes_referencia\") \n",
    "    .agg(F.round(F.avg(\"valor_corrida\"), 2).alias(\"media_valor_corrida\"))\n",
    "    .orderBy(\"ano_mes_referencia\")\n",
    "    .show()\n",
    ")\n"
   ]
  },
  {
   "cell_type": "code",
   "execution_count": 24,
   "id": "9fc03c5f",
   "metadata": {},
   "outputs": [
    {
     "name": "stdout",
     "output_type": "stream",
     "text": [
      "+------------------+-------------+-----------------+\n",
      "|ano_mes_referencia|hora_embarque|media_passageiros|\n",
      "+------------------+-------------+-----------------+\n",
      "|           2023-05|           00|             1.41|\n",
      "|           2023-05|           01|             1.42|\n",
      "|           2023-05|           02|             1.44|\n",
      "|           2023-05|           03|             1.43|\n",
      "|           2023-05|           04|             1.39|\n",
      "|           2023-05|           05|             1.26|\n",
      "|           2023-05|           06|             1.24|\n",
      "|           2023-05|           07|             1.25|\n",
      "|           2023-05|           08|             1.26|\n",
      "|           2023-05|           09|             1.28|\n",
      "|           2023-05|           10|             1.32|\n",
      "|           2023-05|           11|             1.33|\n",
      "|           2023-05|           12|             1.35|\n",
      "|           2023-05|           13|             1.35|\n",
      "|           2023-05|           14|             1.36|\n",
      "|           2023-05|           15|             1.37|\n",
      "|           2023-05|           16|             1.37|\n",
      "|           2023-05|           17|             1.36|\n",
      "|           2023-05|           18|             1.36|\n",
      "|           2023-05|           19|             1.37|\n",
      "+------------------+-------------+-----------------+\n",
      "only showing top 20 rows\n"
     ]
    }
   ],
   "source": [
    "\"\"\"\n",
    "Qual a média de passageiros (passenger_count) por cada hora do dia\n",
    "que pegaram táxi no mês de maio considerando todos os táxis da\n",
    "frota?\n",
    "\"\"\"\n",
    "\n",
    "_ = (\n",
    "    df_viagem_taxi_ny\n",
    "    .filter(F.col(\"ano_mes_referencia\") == \"2023-05\")\n",
    "    .withColumn(\"hora_embarque\", F.hour(F.col(\"data_hora_embarque\")))\n",
    "    .withColumn(\"hora_embarque\", F.col(\"hora_embarque\").cast(\"string\"))\n",
    "    .withColumn(\"hora_embarque\", F.lpad(F.col(\"hora_embarque\"), 2, \"0\"))\n",
    "    .groupBy(\"ano_mes_referencia\", \"hora_embarque\")\n",
    "    .agg(F.round(F.avg(\"quantidade_passageiros\"), 2).alias(\"media_passageiros\"))\n",
    "    .orderBy(\"hora_embarque\")\n",
    "    .show()\n",
    ")"
   ]
  }
 ],
 "metadata": {
  "kernelspec": {
   "display_name": ".venv",
   "language": "python",
   "name": "python3"
  },
  "language_info": {
   "codemirror_mode": {
    "name": "ipython",
    "version": 3
   },
   "file_extension": ".py",
   "mimetype": "text/x-python",
   "name": "python",
   "nbconvert_exporter": "python",
   "pygments_lexer": "ipython3",
   "version": "3.12.3"
  }
 },
 "nbformat": 4,
 "nbformat_minor": 5
}
