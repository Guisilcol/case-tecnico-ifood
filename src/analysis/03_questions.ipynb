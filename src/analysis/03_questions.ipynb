{
 "cells": [
  {
   "cell_type": "code",
   "execution_count": 1,
   "id": "dddff0aa",
   "metadata": {},
   "outputs": [],
   "source": [
    "from pyspark.sql import SparkSession, functions as F\n",
    "\n",
    "spark = SparkSession.builder.appName(\"Questoes\").getOrCreate()\n"
   ]
  },
  {
   "cell_type": "code",
   "execution_count": 2,
   "id": "472cb13a",
   "metadata": {},
   "outputs": [
    {
     "name": "stdout",
     "output_type": "stream",
     "text": [
      "+--------------------+-------------+------------------+----------------------+-------------+-------------------+---------------------+----------------------+-----------------------------+-----------------+------------------------+------------+--------------------------+------------------+\n",
      "|                  id|id_fornecedor|   nome_fornecedor|quantidade_passageiros|valor_corrida| data_hora_embarque|data_hora_desembarque|indicador_cancelamento|indicador_viagem_sem_cobranca|id_tipo_pagamento|descricao_tipo_pagamento|tipo_servico|data_hora_criacao_registro|ano_mes_referencia|\n",
      "+--------------------+-------------+------------------+----------------------+-------------+-------------------+---------------------+----------------------+-----------------------------+-----------------+------------------------+------------+--------------------------+------------------+\n",
      "|b470b91a-ea8c-4e5...|            2|Curb Mobility, LLC|                     1|        16.00|2023-03-01 00:25:10|  2023-03-01 00:35:47|                     N|                            N|                2|                Dinheiro|       GREEN|      2025-10-22 22:45:...|           2023-03|\n",
      "|0b7fce1e-2da1-4ca...|            2|Curb Mobility, LLC|                     1|        -9.00|2023-03-01 00:14:29|  2023-03-01 00:25:04|                     N|                            S|                3|            Sem cobrança|       GREEN|      2025-10-22 22:45:...|           2023-03|\n",
      "|d73b1806-f90d-409...|            2|Curb Mobility, LLC|                     1|         9.00|2023-03-01 00:14:29|  2023-03-01 00:25:04|                     N|                            S|                3|            Sem cobrança|       GREEN|      2025-10-22 22:45:...|           2023-03|\n",
      "|2957193c-d84a-4fb...|            2|Curb Mobility, LLC|                     1|        16.68|2023-02-28 22:59:46|  2023-02-28 23:08:38|                     N|                            N|                1|       Cartão de crédito|       GREEN|      2025-10-22 22:45:...|           2023-03|\n",
      "|2340df14-8031-47f...|            2|Curb Mobility, LLC|                     1|        25.02|2023-03-01 00:54:03|  2023-03-01 01:03:14|                     N|                            N|                1|       Cartão de crédito|       GREEN|      2025-10-22 22:45:...|           2023-03|\n",
      "|b71dc512-5c1e-41f...|            2|Curb Mobility, LLC|                     1|        29.80|2023-03-01 01:00:09|  2023-03-01 01:14:37|                     N|                            N|                1|       Cartão de crédito|       GREEN|      2025-10-22 22:45:...|           2023-03|\n",
      "|0f55bbfa-b71f-4bb...|            2|Curb Mobility, LLC|                     1|        24.24|2023-03-01 00:09:45|  2023-03-01 00:26:06|                     N|                            N|                1|       Cartão de crédito|       GREEN|      2025-10-22 22:45:...|           2023-03|\n",
      "|926a0806-13ef-461...|            2|Curb Mobility, LLC|                     5|        37.00|2023-03-01 00:39:30|  2023-03-01 00:39:33|                     N|                            N|                1|       Cartão de crédito|       GREEN|      2025-10-22 22:45:...|           2023-03|\n",
      "|d0f08fae-1ce9-46a...|            2|Curb Mobility, LLC|                     1|        24.44|2023-03-01 00:03:07|  2023-03-01 00:14:44|                     N|                            N|                1|       Cartão de crédito|       GREEN|      2025-10-22 22:45:...|           2023-03|\n",
      "|4b428f46-4f6c-421...|            2|Curb Mobility, LLC|                     5|        15.84|2023-03-01 00:42:56|  2023-03-01 00:49:57|                     N|                            N|                1|       Cartão de crédito|       GREEN|      2025-10-22 22:45:...|           2023-03|\n",
      "|8d6b720b-fc0b-4c9...|            2|Curb Mobility, LLC|                     1|         9.12|2023-03-01 01:13:10|  2023-03-01 01:15:50|                     N|                            N|                1|       Cartão de crédito|       GREEN|      2025-10-22 22:45:...|           2023-03|\n",
      "|8e8e66f4-ce2f-4c6...|            2|Curb Mobility, LLC|                     1|        10.80|2023-03-01 00:28:03|  2023-03-01 00:32:46|                     N|                            N|                1|       Cartão de crédito|       GREEN|      2025-10-22 22:45:...|           2023-03|\n",
      "|7c7e0b49-2a38-42f...|            2|Curb Mobility, LLC|                     1|        22.30|2023-03-01 00:22:23|  2023-03-01 00:42:34|                     N|                            N|                2|                Dinheiro|       GREEN|      2025-10-22 22:45:...|           2023-03|\n",
      "|297bc04d-59b4-4f3...|            2|Curb Mobility, LLC|                     1|        -8.30|2023-03-01 00:49:20|  2023-03-01 00:53:08|                     N|                            S|                3|            Sem cobrança|       GREEN|      2025-10-22 22:45:...|           2023-03|\n",
      "|b1867825-9e11-4bb...|            2|Curb Mobility, LLC|                     1|         8.30|2023-03-01 00:49:20|  2023-03-01 00:53:08|                     N|                            S|                3|            Sem cobrança|       GREEN|      2025-10-22 22:45:...|           2023-03|\n",
      "|a497285a-617a-41a...|            2|Curb Mobility, LLC|                     1|        25.92|2023-03-01 00:29:28|  2023-03-01 00:44:24|                     N|                            N|                1|       Cartão de crédito|       GREEN|      2025-10-22 22:45:...|           2023-03|\n",
      "|3bef55f2-4a92-40a...|            2|Curb Mobility, LLC|                     1|        13.90|2023-03-01 00:41:05|  2023-03-01 00:49:25|                     N|                            N|                2|                Dinheiro|       GREEN|      2025-10-22 22:45:...|           2023-03|\n",
      "|0343481d-c5d5-488...|            2|Curb Mobility, LLC|                     1|        15.84|2023-03-01 00:25:47|  2023-03-01 00:34:16|                     N|                            N|                1|       Cartão de crédito|       GREEN|      2025-10-22 22:45:...|           2023-03|\n",
      "|c04f097f-971c-49d...|            2|Curb Mobility, LLC|                     1|        20.88|2023-03-01 00:32:41|  2023-03-01 00:44:14|                     N|                            N|                1|       Cartão de crédito|       GREEN|      2025-10-22 22:45:...|           2023-03|\n",
      "|281c4518-bf12-4af...|            2|Curb Mobility, LLC|                     1|        23.70|2023-03-01 00:52:41|  2023-03-01 01:13:37|                     N|                            N|                2|                Dinheiro|       GREEN|      2025-10-22 22:45:...|           2023-03|\n",
      "+--------------------+-------------+------------------+----------------------+-------------+-------------------+---------------------+----------------------+-----------------------------+-----------------+------------------------+------------+--------------------------+------------------+\n",
      "only showing top 20 rows\n"
     ]
    }
   ],
   "source": [
    "df = spark.read.table('silver_db.tb_corrida_taxi_ny')\n",
    "df.show()"
   ]
  },
  {
   "cell_type": "markdown",
   "id": "6c520826",
   "metadata": {},
   "source": [
    "# Entendimento do dado"
   ]
  },
  {
   "cell_type": "code",
   "execution_count": 3,
   "id": "df2883e5",
   "metadata": {},
   "outputs": [
    {
     "name": "stdout",
     "output_type": "stream",
     "text": [
      "+--------------------+-------------+------------------+----------------------+-------------+-------------------+---------------------+----------------------+-----------------------------+-----------------+------------------------+------------+--------------------------+------------------+\n",
      "|                  id|id_fornecedor|   nome_fornecedor|quantidade_passageiros|valor_corrida| data_hora_embarque|data_hora_desembarque|indicador_cancelamento|indicador_viagem_sem_cobranca|id_tipo_pagamento|descricao_tipo_pagamento|tipo_servico|data_hora_criacao_registro|ano_mes_referencia|\n",
      "+--------------------+-------------+------------------+----------------------+-------------+-------------------+---------------------+----------------------+-----------------------------+-----------------+------------------------+------------+--------------------------+------------------+\n",
      "|1cf6e65e-719f-413...|            2|Curb Mobility, LLC|                     3|       -10.88|2023-05-01 00:30:22|  2023-05-01 00:36:54|                     N|                            N|                4|             Contestação|      YELLOW|      2025-10-22 22:45:...|           2023-05|\n",
      "|d95e10fb-ff94-4da...|            2|Curb Mobility, LLC|                     2|       -51.45|2023-05-01 00:58:55|  2023-05-01 01:17:02|                     N|                            N|                2|                Dinheiro|      YELLOW|      2025-10-22 22:45:...|           2023-05|\n",
      "|660d67ed-7dd0-44c...|            2|Curb Mobility, LLC|                     1|       -58.45|2023-05-01 00:13:15|  2023-05-01 00:33:28|                     N|                            N|                4|             Contestação|      YELLOW|      2025-10-22 22:45:...|           2023-05|\n",
      "|b3391bd5-91c8-47d...|            2|Curb Mobility, LLC|                     1|       -82.30|2023-05-01 00:55:50|  2023-05-01 01:24:50|                     N|                            N|                4|             Contestação|      YELLOW|      2025-10-22 22:45:...|           2023-05|\n",
      "|7f4457e7-b682-421...|            2|Curb Mobility, LLC|                     1|       -42.48|2023-05-01 00:19:06|  2023-05-01 00:40:01|                     N|                            N|                2|                Dinheiro|      YELLOW|      2025-10-22 22:45:...|           2023-05|\n",
      "|d0f0cb4e-7e31-472...|            2|Curb Mobility, LLC|                     1|       -17.10|2023-05-01 00:48:48|  2023-05-01 00:56:59|                     N|                            N|                4|             Contestação|      YELLOW|      2025-10-22 22:45:...|           2023-05|\n",
      "|7acce2b1-4540-48d...|            2|Curb Mobility, LLC|                     1|      -101.85|2023-05-01 00:08:59|  2023-05-01 00:40:05|                     N|                            N|                4|             Contestação|      YELLOW|      2025-10-22 22:45:...|           2023-05|\n",
      "|93969cee-0853-4f0...|            2|Curb Mobility, LLC|                     1|       -21.30|2023-05-01 00:18:54|  2023-05-01 00:29:34|                     N|                            N|                4|             Contestação|      YELLOW|      2025-10-22 22:45:...|           2023-05|\n",
      "|b3032ca8-bca6-468...|            2|Curb Mobility, LLC|                     1|       -52.80|2023-05-01 00:32:03|  2023-05-01 00:57:35|                     N|                            N|                4|             Contestação|      YELLOW|      2025-10-22 22:45:...|           2023-05|\n",
      "|81dfdf5e-3e95-457...|            2|Curb Mobility, LLC|                     3|       -41.60|2023-05-01 00:24:29|  2023-05-01 00:56:57|                     N|                            N|                4|             Contestação|      YELLOW|      2025-10-22 22:45:...|           2023-05|\n",
      "|9e1a125a-7eb1-495...|            2|Curb Mobility, LLC|                     1|       -57.00|2023-05-01 00:07:56|  2023-05-01 00:31:48|                     N|                            N|                4|             Contestação|      YELLOW|      2025-10-22 22:45:...|           2023-05|\n",
      "|5cf5f9d6-e4a0-4db...|            2|Curb Mobility, LLC|                     1|       -17.10|2023-05-01 00:27:48|  2023-05-01 00:37:06|                     N|                            N|                4|             Contestação|      YELLOW|      2025-10-22 22:45:...|           2023-05|\n",
      "|bbfac38e-6764-4a6...|            2|Curb Mobility, LLC|                     1|       -94.85|2023-05-01 00:16:58|  2023-05-01 01:02:02|                     N|                            N|                2|                Dinheiro|      YELLOW|      2025-10-22 22:45:...|           2023-05|\n",
      "|e2e5b30f-6ca2-4a6...|            2|Curb Mobility, LLC|                     1|       -45.75|2023-05-01 00:07:00|  2023-05-01 00:27:07|                     N|                            N|                4|             Contestação|      YELLOW|      2025-10-22 22:45:...|           2023-05|\n",
      "|bf054e47-d880-4ac...|            2|Curb Mobility, LLC|                     1|        -7.25|2023-05-01 00:54:24|  2023-05-01 00:54:38|                     N|                            N|                2|                Dinheiro|      YELLOW|      2025-10-22 22:45:...|           2023-05|\n",
      "|5d3452f6-cf44-4ef...|            2|Curb Mobility, LLC|                     1|       -82.30|2023-05-01 00:31:34|  2023-05-01 01:02:51|                     N|                            N|                4|             Contestação|      YELLOW|      2025-10-22 22:45:...|           2023-05|\n",
      "|2f745cb0-8402-41e...|            2|Curb Mobility, LLC|                     1|      -108.50|2023-05-01 00:57:21|  2023-05-01 00:57:30|                     N|                            S|                3|            Sem cobrança|      YELLOW|      2025-10-22 22:45:...|           2023-05|\n",
      "|e96d9997-7249-431...|            2|Curb Mobility, LLC|                     4|       -28.35|2023-05-01 00:46:03|  2023-05-01 00:57:19|                     N|                            N|                2|                Dinheiro|      YELLOW|      2025-10-22 22:45:...|           2023-05|\n",
      "|24646f82-dce7-4bd...|            2|Curb Mobility, LLC|                     1|       -19.20|2023-05-01 00:18:05|  2023-05-01 00:27:06|                     N|                            N|                4|             Contestação|      YELLOW|      2025-10-22 22:45:...|           2023-05|\n",
      "|5a0df08a-9d49-490...|            2|Curb Mobility, LLC|                     1|       -88.00|2023-05-01 00:30:53|  2023-05-01 00:58:51|                     N|                            N|                4|             Contestação|      YELLOW|      2025-10-22 22:45:...|           2023-05|\n",
      "+--------------------+-------------+------------------+----------------------+-------------+-------------------+---------------------+----------------------+-----------------------------+-----------------+------------------------+------------+--------------------------+------------------+\n",
      "only showing top 20 rows\n"
     ]
    }
   ],
   "source": [
    "df.filter('valor_corrida < 0').show() # Existem valores negativos na coluna valor_corrida. "
   ]
  },
  {
   "cell_type": "code",
   "execution_count": 11,
   "id": "1413dd6d",
   "metadata": {},
   "outputs": [
    {
     "name": "stdout",
     "output_type": "stream",
     "text": [
      "+------------------------+-----+\n",
      "|descricao_tipo_pagamento|count|\n",
      "+------------------------+-----+\n",
      "|    TIPO DE PAGAMENTO...|    8|\n",
      "|       Cartão de crédito|  116|\n",
      "|    Viagem com tarifa...|  172|\n",
      "|            Sem cobrança|25914|\n",
      "|                Dinheiro|32962|\n",
      "|             Contestação|83151|\n",
      "+------------------------+-----+\n",
      "\n"
     ]
    }
   ],
   "source": [
    "_ = (\n",
    "    df.filter('valor_corrida < 0')\n",
    "    .groupBy('descricao_tipo_pagamento')\n",
    "    .count()\n",
    "    .orderBy('count')\n",
    "    .show()\n",
    ") # A maioria é \"Contestação\", portanto, os valores foram estornados para o cliente."
   ]
  },
  {
   "cell_type": "code",
   "execution_count": 9,
   "id": "9a2ad2d2",
   "metadata": {},
   "outputs": [
    {
     "name": "stdout",
     "output_type": "stream",
     "text": [
      "+------------------+-------------------+\n",
      "|ano_mes_referencia|media_valor_corrida|\n",
      "+------------------+-------------------+\n",
      "|           2023-01|              27.48|\n",
      "|           2023-02|              27.37|\n",
      "|           2023-03|              28.31|\n",
      "|           2023-04|              28.80|\n",
      "|           2023-05|              29.50|\n",
      "+------------------+-------------------+\n",
      "\n"
     ]
    }
   ],
   "source": [
    "# Qual a média de valor total (total_amount) recebido em um mês considerando todos os yellow táxis da frota?\n",
    "\n",
    "\n",
    "_ = (\n",
    "    df\n",
    "    .filter(\"tipo_servico = 'YELLOW'\") # Somente yellow táxis\n",
    "    .filter(\"indicador_cancelamento = 'N'\") # Somente corridas não canceladas\n",
    "    .filter(\"indicador_viagem_sem_cobranca = 'N'\") # Somente corridas com cobrança\n",
    "    .filter(\"valor_corrida > 0\") # Somente valores positivos\n",
    "    .groupBy(\"ano_mes_referencia\") \n",
    "    .agg(F.round(F.avg(\"valor_corrida\"), 2).alias(\"media_valor_corrida\"))\n",
    "    .orderBy(\"ano_mes_referencia\")\n",
    "    .show()\n",
    ")"
   ]
  },
  {
   "cell_type": "code",
   "execution_count": 12,
   "id": "8157720a",
   "metadata": {},
   "outputs": [
    {
     "name": "stdout",
     "output_type": "stream",
     "text": [
      "+------------------+-------------+-----------------+\n",
      "|ano_mes_referencia|hora_embarque|media_passageiros|\n",
      "+------------------+-------------+-----------------+\n",
      "|           2023-05|           00|             1.41|\n",
      "|           2023-05|           01|             1.42|\n",
      "|           2023-05|           02|             1.44|\n",
      "|           2023-05|           03|             1.43|\n",
      "|           2023-05|           04|             1.39|\n",
      "|           2023-05|           05|             1.26|\n",
      "|           2023-05|           06|             1.24|\n",
      "|           2023-05|           07|             1.25|\n",
      "|           2023-05|           08|             1.26|\n",
      "|           2023-05|           09|             1.28|\n",
      "|           2023-05|           10|             1.32|\n",
      "|           2023-05|           11|             1.33|\n",
      "|           2023-05|           12|             1.35|\n",
      "|           2023-05|           13|             1.35|\n",
      "|           2023-05|           14|             1.36|\n",
      "|           2023-05|           15|             1.37|\n",
      "|           2023-05|           16|             1.37|\n",
      "|           2023-05|           17|             1.36|\n",
      "|           2023-05|           18|             1.36|\n",
      "|           2023-05|           19|             1.37|\n",
      "+------------------+-------------+-----------------+\n",
      "only showing top 20 rows\n"
     ]
    }
   ],
   "source": [
    "# Qual a média de passageiros (passenger_count) por cada hora do dia que pegaram táxi no mês de maio considerando todos os táxis da frota?\n",
    "\n",
    "_ = (\n",
    "    df\n",
    "    .filter(F.col(\"ano_mes_referencia\") == \"2023-05\")\n",
    "    .withColumn(\"hora_embarque\", F.hour(F.col(\"data_hora_embarque\")))\n",
    "    .withColumn(\"hora_embarque\", F.col(\"hora_embarque\").cast(\"string\"))\n",
    "    .withColumn(\"hora_embarque\", F.lpad(F.col(\"hora_embarque\"), 2, \"0\"))\n",
    "    .groupBy(\"ano_mes_referencia\", \"hora_embarque\")\n",
    "    .agg(F.round(F.avg(\"quantidade_passageiros\"), 2).alias(\"media_passageiros\"))\n",
    "    .orderBy(\"hora_embarque\")\n",
    "    .show()\n",
    ")"
   ]
  }
 ],
 "metadata": {
  "kernelspec": {
   "display_name": "case-tecnico-ifood-311",
   "language": "python",
   "name": "python3"
  },
  "language_info": {
   "codemirror_mode": {
    "name": "ipython",
    "version": 3
   },
   "file_extension": ".py",
   "mimetype": "text/x-python",
   "name": "python",
   "nbconvert_exporter": "python",
   "pygments_lexer": "ipython3",
   "version": "3.11.9"
  }
 },
 "nbformat": 4,
 "nbformat_minor": 5
}
