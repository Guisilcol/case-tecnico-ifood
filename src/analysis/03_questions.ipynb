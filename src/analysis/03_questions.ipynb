{
 "cells": [
  {
   "cell_type": "code",
   "execution_count": 1,
   "id": "dddff0aa",
   "metadata": {},
   "outputs": [],
   "source": [
    "from pyspark.sql import SparkSession, functions as F\n",
    "\n",
    "spark = SparkSession.builder.appName(\"Questoes\").getOrCreate()\n"
   ]
  },
  {
   "cell_type": "code",
   "execution_count": 3,
   "id": "472cb13a",
   "metadata": {},
   "outputs": [
    {
     "name": "stdout",
     "output_type": "stream",
     "text": [
      "+--------------------+-------------+--------------------+----------------------+-------------+-------------------+---------------------+----------------------+-----------------------------+-----------------+------------------------+------------+--------------------------+------------------+\n",
      "|                  id|id_fornecedor|     nome_fornecedor|quantidade_passageiros|valor_corrida| data_hora_embarque|data_hora_desembarque|indicador_cancelamento|indicador_viagem_sem_cobranca|id_tipo_pagamento|descricao_tipo_pagamento|tipo_servico|data_hora_criacao_registro|ano_mes_referencia|\n",
      "+--------------------+-------------+--------------------+----------------------+-------------+-------------------+---------------------+----------------------+-----------------------------+-----------------+------------------------+------------+--------------------------+------------------+\n",
      "|b946d3cd-b290-4bc...|          1.0|Creative Mobile T...|                   2.0|         39.9|2023-04-01 00:14:49|  2023-04-01 00:45:01|                     N|                            N|              1.0|       Cartão de crédito|      YELLOW|      2025-10-16 22:27:...|           2023-04|\n",
      "|536d32a4-e04a-461...|          2.0|  Curb Mobility, LLC|                   1.0|         81.8|2023-04-01 00:00:24|  2023-04-01 00:56:19|                     N|                            N|              2.0|                Dinheiro|      YELLOW|      2025-10-16 22:27:...|           2023-04|\n",
      "|10c6b31a-0b4e-4f8...|          1.0|Creative Mobile T...|                   2.0|         18.4|2023-04-01 00:03:50|  2023-04-01 00:14:42|                     N|                            N|              1.0|       Cartão de crédito|      YELLOW|      2025-10-16 22:27:...|           2023-04|\n",
      "|3e315aac-beed-421...|          1.0|Creative Mobile T...|                   1.0|         16.0|2023-04-01 00:53:18|  2023-04-01 01:01:28|                     N|                            N|              1.0|       Cartão de crédito|      YELLOW|      2025-10-16 22:27:...|           2023-04|\n",
      "|b8ef78ab-d755-4c7...|          2.0|  Curb Mobility, LLC|                   2.0|         17.4|2023-04-01 00:07:00|  2023-04-01 00:17:16|                     N|                            N|              1.0|       Cartão de crédito|      YELLOW|      2025-10-16 22:27:...|           2023-04|\n",
      "|2da7772e-c4ca-461...|          1.0|Creative Mobile T...|                   6.0|        17.85|2023-04-01 00:08:59|  2023-04-01 00:15:39|                     N|                            N|              1.0|       Cartão de crédito|      YELLOW|      2025-10-16 22:27:...|           2023-04|\n",
      "|053e26ac-74ff-444...|          2.0|  Curb Mobility, LLC|                   1.0|        61.92|2023-04-01 00:27:52|  2023-04-01 00:43:07|                     N|                            N|              1.0|       Cartão de crédito|      YELLOW|      2025-10-16 22:27:...|           2023-04|\n",
      "|9fa6a63b-aa55-427...|          2.0|  Curb Mobility, LLC|                   1.0|        33.62|2023-04-01 00:48:38|  2023-04-01 01:08:37|                     N|                            N|              1.0|       Cartão de crédito|      YELLOW|      2025-10-16 22:27:...|           2023-04|\n",
      "|b5a96042-5abc-4e5...|          1.0|Creative Mobile T...|                   0.0|         48.8|2023-04-01 00:22:28|  2023-04-01 00:34:29|                     N|                            S|              3.0|            Sem cobrança|      YELLOW|      2025-10-16 22:27:...|           2023-04|\n",
      "|1ab85f87-3d14-4b4...|          2.0|  Curb Mobility, LLC|                   1.0|        17.16|2023-04-01 00:27:06|  2023-04-01 00:34:06|                     N|                            N|              1.0|       Cartão de crédito|      YELLOW|      2025-10-16 22:27:...|           2023-04|\n",
      "|698aea2e-7cfa-446...|          2.0|  Curb Mobility, LLC|                   1.0|         13.9|2023-04-01 00:34:42|  2023-04-01 00:41:30|                     N|                            N|              1.0|       Cartão de crédito|      YELLOW|      2025-10-16 22:27:...|           2023-04|\n",
      "|92721bbb-5d45-4ae...|          2.0|  Curb Mobility, LLC|                   1.0|         14.6|2023-04-01 00:47:38|  2023-04-01 00:53:55|                     N|                            N|              1.0|       Cartão de crédito|      YELLOW|      2025-10-16 22:27:...|           2023-04|\n",
      "|3f95cfe8-d0fd-43e...|          2.0|  Curb Mobility, LLC|                   1.0|        18.86|2023-04-01 00:59:10|  2023-04-01 01:08:55|                     N|                            N|              1.0|       Cartão de crédito|      YELLOW|      2025-10-16 22:27:...|           2023-04|\n",
      "|56511861-d661-412...|          2.0|  Curb Mobility, LLC|                   2.0|        44.04|2023-04-01 00:19:36|  2023-04-01 00:49:31|                     N|                            N|              1.0|       Cartão de crédito|      YELLOW|      2025-10-16 22:27:...|           2023-04|\n",
      "|cde3ba93-3d70-449...|          1.0|Creative Mobile T...|                   2.0|         36.1|2023-04-01 00:04:59|  2023-04-01 00:30:10|                     N|                            N|              1.0|       Cartão de crédito|      YELLOW|      2025-10-16 22:27:...|           2023-04|\n",
      "|6dc5531b-21cb-4eb...|          2.0|  Curb Mobility, LLC|                   1.0|        27.24|2023-04-01 00:16:49|  2023-04-01 00:33:01|                     N|                            N|              1.0|       Cartão de crédito|      YELLOW|      2025-10-16 22:27:...|           2023-04|\n",
      "|2a81c6cb-5416-462...|          2.0|  Curb Mobility, LLC|                   1.0|         26.0|2023-04-01 00:11:21|  2023-04-01 00:24:43|                     N|                            N|              1.0|       Cartão de crédito|      YELLOW|      2025-10-16 22:27:...|           2023-04|\n",
      "|3f5123b1-885d-418...|          2.0|  Curb Mobility, LLC|                   1.0|        24.72|2023-04-01 00:38:58|  2023-04-01 00:52:20|                     N|                            N|              1.0|       Cartão de crédito|      YELLOW|      2025-10-16 22:27:...|           2023-04|\n",
      "|54d6c817-9684-48b...|          1.0|Creative Mobile T...|                   2.0|         12.2|2023-04-01 00:03:43|  2023-04-01 00:09:16|                     N|                            N|              2.0|                Dinheiro|      YELLOW|      2025-10-16 22:27:...|           2023-04|\n",
      "|a8b8cb89-ecd6-4ef...|          1.0|Creative Mobile T...|                   1.0|         17.4|2023-04-01 00:12:17|  2023-04-01 00:20:34|                     N|                            N|              1.0|       Cartão de crédito|      YELLOW|      2025-10-16 22:27:...|           2023-04|\n",
      "+--------------------+-------------+--------------------+----------------------+-------------+-------------------+---------------------+----------------------+-----------------------------+-----------------+------------------------+------------+--------------------------+------------------+\n",
      "only showing top 20 rows\n"
     ]
    }
   ],
   "source": [
    "df = spark.read.table('silver_db.tb_corrida_taxi_ny')\n",
    "\n",
    "df.show()"
   ]
  },
  {
   "cell_type": "code",
   "execution_count": null,
   "id": "9a2ad2d2",
   "metadata": {},
   "outputs": [
    {
     "name": "stdout",
     "output_type": "stream",
     "text": [
      "+------------------+-------------------+\n",
      "|ano_mes_referencia|media_valor_corrida|\n",
      "+------------------+-------------------+\n",
      "|           2023-01|              27.12|\n",
      "|           2023-02|               27.0|\n",
      "|           2023-03|              27.91|\n",
      "|           2023-04|              28.38|\n",
      "|           2023-05|              29.07|\n",
      "+------------------+-------------------+\n",
      "\n"
     ]
    }
   ],
   "source": [
    "# Qual a média de valor total (total_amount) recebido em um mês considerando todos os yellow táxis da frota?\n",
    "\n",
    "\n",
    "_ = (\n",
    "    df\n",
    "    .filter(\"tipo_servico = 'YELLOW'\") # Somente yellow táxis\n",
    "    .filter(\"indicador_cancelamento = 'N'\") # Somente corridas não canceladas\n",
    "    .filter(\"indicador_viagem_sem_cobranca = 'N'\") # Somente corridas com cobrança\n",
    "    .groupBy(\"ano_mes_referencia\") \n",
    "    .agg(F.round(F.avg(\"valor_corrida\"), 2).alias(\"media_valor_corrida\"))\n",
    "    .orderBy(\"ano_mes_referencia\")\n",
    "    .show()\n",
    ")"
   ]
  },
  {
   "cell_type": "code",
   "execution_count": 5,
   "id": "8157720a",
   "metadata": {},
   "outputs": [
    {
     "name": "stdout",
     "output_type": "stream",
     "text": [
      "+------------------+-------------+-----------------+\n",
      "|ano_mes_referencia|hora_embarque|media_passageiros|\n",
      "+------------------+-------------+-----------------+\n",
      "|           2023-05|           00|             1.41|\n",
      "|           2023-05|           01|             1.42|\n",
      "|           2023-05|           02|             1.44|\n",
      "|           2023-05|           03|             1.43|\n",
      "|           2023-05|           04|             1.39|\n",
      "|           2023-05|           05|             1.26|\n",
      "|           2023-05|           06|             1.24|\n",
      "|           2023-05|           07|             1.25|\n",
      "|           2023-05|           08|             1.26|\n",
      "|           2023-05|           09|             1.28|\n",
      "|           2023-05|           10|             1.32|\n",
      "|           2023-05|           11|             1.33|\n",
      "|           2023-05|           12|             1.35|\n",
      "|           2023-05|           13|             1.35|\n",
      "|           2023-05|           14|             1.36|\n",
      "|           2023-05|           15|             1.37|\n",
      "|           2023-05|           16|             1.37|\n",
      "|           2023-05|           17|             1.36|\n",
      "|           2023-05|           18|             1.36|\n",
      "|           2023-05|           19|             1.37|\n",
      "+------------------+-------------+-----------------+\n",
      "only showing top 20 rows\n"
     ]
    }
   ],
   "source": [
    "# Qual a média de passageiros (passenger_count) por cada hora do dia que pegaram táxi no mês de maio considerando todos os táxis da frota?\n",
    "\n",
    "_ = (\n",
    "    df\n",
    "    .filter(F.col(\"ano_mes_referencia\") == \"2023-05\")\n",
    "    .withColumn(\"hora_embarque\", F.hour(F.col(\"data_hora_embarque\")))\n",
    "    .withColumn(\"hora_embarque\", F.col(\"hora_embarque\").cast(\"string\"))\n",
    "    .withColumn(\"hora_embarque\", F.lpad(F.col(\"hora_embarque\"), 2, \"0\"))\n",
    "    .groupBy(\"ano_mes_referencia\", \"hora_embarque\")\n",
    "    .agg(F.round(F.avg(\"quantidade_passageiros\"), 2).alias(\"media_passageiros\"))\n",
    "    .orderBy(\"hora_embarque\")\n",
    "    .show()\n",
    ")"
   ]
  }
 ],
 "metadata": {
  "kernelspec": {
   "display_name": ".venv",
   "language": "python",
   "name": "python3"
  },
  "language_info": {
   "codemirror_mode": {
    "name": "ipython",
    "version": 3
   },
   "file_extension": ".py",
   "mimetype": "text/x-python",
   "name": "python",
   "nbconvert_exporter": "python",
   "pygments_lexer": "ipython3",
   "version": "3.12.3"
  }
 },
 "nbformat": 4,
 "nbformat_minor": 5
}
